{
 "cells": [
  {
   "cell_type": "markdown",
   "metadata": {},
   "source": [
    "Conversión a números romanos: Crea una función que reciba un número entero entre 1 y 3999, y devuelva su representación en números romanos. Un número romano es una forma de numeración que utiliza letras para representar valores. Dado un número, convierte dicho número en su forma equivalente en el sistema de números romanos. Las reglas son:\n",
    "•El número debe estar entre 1 y 3999, ambos inclusive.\n",
    "•La conversión debe seguir las reglas del sistema romano, donde las letras tienen los siguientes valores:\n",
    "•Para números específicos como 4, 9, 40, 90, 400 y 900, se utilizan combinaciones especiales (por ejemplo, IV para 4, IX para 9).\n",
    "•La función debe devolver la representación correcta en números romanos, respetando las combinaciones necesarias para números intermedios."
   ]
  },
  {
   "cell_type": "code",
   "execution_count": null,
   "metadata": {},
   "outputs": [],
   "source": [
    "def conv_romano(numero):\n",
    "\n",
    "    if numero > 0 and numero <= 3999:\n",
    "        if numero >= 1000:\n",
    "            resultado = numero / 1000\n",
    "            numero = numero % 1000\n",
    " \n",
    "            var_romano = resultado*\"M\"\n",
    "\n",
    "            print(var_romano)\n",
    "        if numero >= 500:\n",
    "            resultado = numero / 1000\n",
    "            numero = numero % 1000\n",
    " \n",
    "            var_romano = resultado*\"M\"\n",
    "\n",
    "            print(var_romano)\n",
    "\n",
    "            \n",
    "    else:\n",
    "        print(\"rango incorrecto\")\n",
    "\n",
    "\n",
    "\n",
    "    \n",
    "# Si nos fijamos en lo que nos devuelve la función, vemos que, nos devuelve un saludo para Paco, con un 'Hola', que es nuestro parámetro por defecto. \n",
    "print(\"La función romano devuelve:\", conv_romano(4))"
   ]
  },
  {
   "cell_type": "markdown",
   "metadata": {},
   "source": [
    "solucion compis"
   ]
  },
  {
   "cell_type": "code",
   "execution_count": null,
   "metadata": {},
   "outputs": [],
   "source": [
    "def numero_romano():\n",
    "    numero = int(input(\"Ingrese un numero entre 1 y 3999: \"))\n",
    "    if numero < 1 or numero > 3999:\n",
    "        print(\"El numero ingresado no es correcto \")\n",
    "    else:\n",
    "        numero_romano = \"\"\n",
    "        # Convertir a millares\n",
    "        if numero >= 1000:\n",
    "            m = numero // 1000\n",
    "            numero_romano += \"M\" * m\n",
    "            numero %= 1000\n",
    "        # Convertir a centenas\n",
    "        if numero >= 100:\n",
    "            c = numero // 100\n",
    "            if c == 9:\n",
    "                numero_romano += \"CM\"\n",
    "            elif c >= 5:\n",
    "                numero_romano += \"D\" + \"C\" * (c - 5)\n",
    "            elif c == 4:\n",
    "                numero_romano += \"CD\"\n",
    "            else:\n",
    "                numero_romano += \"C\" * c\n",
    "            numero %= 100\n",
    "        # Convertir a decenas\n",
    "        if numero >= 10:\n",
    "            d = numero // 10\n",
    "            if d == 9:\n",
    "                numero_romano += \"XC\"\n",
    "            elif d >= 5:\n",
    "                numero_romano += \"L\" + \"X\" * (d - 5)\n",
    "            elif d == 4:\n",
    "                numero_romano += \"XL\"\n",
    "            else:\n",
    "                numero_romano += \"X\" * d\n",
    "            numero %= 10\n",
    "        # Convertir a unidades\n",
    "        if numero > 0:\n",
    "            if numero == 9:\n",
    "                numero_romano += \"IX\"\n",
    "            elif numero >= 5:\n",
    "                numero_romano += \"V\" + \"I\" * (numero - 5)\n",
    "            elif numero == 4:\n",
    "                numero_romano += \"IV\"\n",
    "            else:\n",
    "                numero_romano += \"I\" * numero\n",
    "\n",
    "        print(\"El numero romano es:\", numero_romano)\n",
    "        return numero_romano"
   ]
  },
  {
   "cell_type": "markdown",
   "metadata": {},
   "source": [
    "Encontrar todos los pares con suma objetivo: Crea una función que reciba una lista de números y un número objetivo, y devuelva una lista con todos los pares de números cuya suma sea igual al objetivo. El objetivo es encontrar todas las combinaciones de dos números diferentes en la lista que sumen exactamente el valor dado. Las reglas son:\n",
    "•La función debe devolver todos los pares de números cuya suma sea igual al número objetivo.\n",
    "\n",
    "•Cada par debe estar compuesto por dos números diferentes de la lista.\n",
    "•Si no hay pares que cumplan con la condición, la función debe devolver una lista vacía.\n",
    "•Un número no puede emparejarse consigo mismo.\n",
    "•La lista puede contener números positivos, negativos o ambos."
   ]
  },
  {
   "cell_type": "code",
   "execution_count": 3,
   "metadata": {},
   "outputs": [
    {
     "ename": "IndexError",
     "evalue": "list assignment index out of range",
     "output_type": "error",
     "traceback": [
      "\u001b[1;31m---------------------------------------------------------------------------\u001b[0m",
      "\u001b[1;31mIndexError\u001b[0m                                Traceback (most recent call last)",
      "Cell \u001b[1;32mIn[3], line 11\u001b[0m\n\u001b[0;32m      7\u001b[0m                 resultado[\u001b[38;5;241m1\u001b[39m] \u001b[38;5;241m=\u001b[39m y\n\u001b[0;32m      9\u001b[0m     \u001b[38;5;28;01mreturn\u001b[39;00m resultado\n\u001b[1;32m---> 11\u001b[0m \u001b[38;5;28mprint\u001b[39m(\u001b[38;5;124mf\u001b[39m\u001b[38;5;124m\"\u001b[39m\u001b[38;5;124mEl resultado de la función sumar_numeros_var es: \u001b[39m\u001b[38;5;132;01m{\u001b[39;00m\u001b[43msumar_numeros_var\u001b[49m\u001b[43m(\u001b[49m\u001b[43m[\u001b[49m\u001b[38;5;241;43m1\u001b[39;49m\u001b[43m,\u001b[49m\u001b[38;5;241;43m2\u001b[39;49m\u001b[43m,\u001b[49m\u001b[38;5;241;43m3\u001b[39;49m\u001b[43m,\u001b[49m\u001b[38;5;241;43m4\u001b[39;49m\u001b[43m]\u001b[49m\u001b[43m,\u001b[49m\u001b[38;5;241;43m5\u001b[39;49m\u001b[43m)\u001b[49m\u001b[38;5;132;01m}\u001b[39;00m\u001b[38;5;124m\"\u001b[39m)\n",
      "Cell \u001b[1;32mIn[3], line 7\u001b[0m, in \u001b[0;36msumar_numeros_var\u001b[1;34m(numArray, objectivo)\u001b[0m\n\u001b[0;32m      5\u001b[0m         \u001b[38;5;28;01mif\u001b[39;00m (x \u001b[38;5;241m+\u001b[39m y) \u001b[38;5;241m==\u001b[39m objectivo:\n\u001b[0;32m      6\u001b[0m             resultado[\u001b[38;5;241m0\u001b[39m] \u001b[38;5;241m=\u001b[39m x\n\u001b[1;32m----> 7\u001b[0m             \u001b[43mresultado\u001b[49m\u001b[43m[\u001b[49m\u001b[38;5;241;43m1\u001b[39;49m\u001b[43m]\u001b[49m \u001b[38;5;241m=\u001b[39m y\n\u001b[0;32m      9\u001b[0m \u001b[38;5;28;01mreturn\u001b[39;00m resultado\n",
      "\u001b[1;31mIndexError\u001b[0m: list assignment index out of range"
     ]
    }
   ],
   "source": [
    "def sumar_numeros_var(numArray, objectivo):\n",
    "    resultado = [0]\n",
    "    for x in numArray:\n",
    "        for y in numArray:\n",
    "            if (x + y) == objectivo:\n",
    "                resultado[0] = x\n",
    "                resultado[1] = y\n",
    "\n",
    "    return resultado\n",
    "\n",
    "print(f\"El resultado de la función sumar_numeros_var es: {sumar_numeros_var([1,2,3,4],5)}\")"
   ]
  },
  {
   "cell_type": "markdown",
   "metadata": {},
   "source": [
    "Fibonacci hasta N: Crea una función que reciba un número entero N y devuelva una lista con todos los números de la secuencia de Fibonacci hasta que el valor supere o iguale a N. La secuencia de Fibonacci es una sucesión de números en la que cada número es la suma de los dos anteriores, comenzando con 0 y 1. Las reglas son:\n",
    "•La secuencia debe comenzar con los números 0 y 1.\n",
    "•La función debe devolver todos los números de Fibonacci menores o iguales a N.\n",
    "•Si N es menor que 0, la función debe devolver una lista vacía.\n",
    "•La lista resultante debe incluir todos los números de Fibonacci en orden creciente hasta que el siguiente número supere N."
   ]
  },
  {
   "cell_type": "code",
   "execution_count": null,
   "metadata": {},
   "outputs": [],
   "source": [
    "def fib(n): #Calculamos el termino n de la sucesión de fibonacci\n",
    "    if n < 2:\n",
    "        return n\n",
    "    else:\n",
    "        # fn = fn-1 + fn-2\n",
    "        return fib(n-1) + fib(n-2)\n",
    "\n",
    "lista=[]\n",
    "for x in range(10):\n",
    "    lista.append(fib(x)) \n",
    "\n",
    "\n",
    "print(lista)"
   ]
  },
  {
   "cell_type": "markdown",
   "metadata": {},
   "source": [
    "Encontrar la sublista con la mayor suma: Crea una función que reciba una lista de números y devuelva el subarray (sublista continua) con la mayor suma posible. El objetivo es identificar la secuencia continua de números dentro de la lista cuya suma sea la mayor. Las reglas son:\n",
    "•La sublista debe ser continua, es decir, no se pueden saltar elementos.\n",
    "•La función debe devolver la mayor suma que se pueda obtener de una sublista de la lista.\n",
    "•La lista puede contener números positivos, negativos o ambos.\n",
    "•Si la lista tiene un solo número, ese número es la suma máxima posible.\n",
    "•Si todos los números de la lista son negativos, la función debe devolver el número negativo de mayor valor."
   ]
  },
  {
   "cell_type": "code",
   "execution_count": 8,
   "metadata": {},
   "outputs": [
    {
     "name": "stdout",
     "output_type": "stream",
     "text": [
      "[1, 2, 3, 4, 5]\n",
      "[[], [1], [2], [3], [4], [5], [1, 2], [1, 3], [1, 4], [1, 5], [2, 3], [2, 4], [2, 5], [3, 4], [3, 5], [4, 5], [1, 2, 3], [1, 2, 4], [1, 2, 5], [1, 3, 4], [1, 3, 5], [1, 4, 5], [2, 3, 4], [2, 3, 5], [2, 4, 5], [3, 4, 5], [1, 2, 3, 4], [1, 2, 3, 5], [1, 2, 4, 5], [1, 3, 4, 5], [2, 3, 4, 5], [1, 2, 3, 4, 5]]\n",
      "\n"
     ]
    }
   ],
   "source": [
    "from itertools import combinations\n",
    "\n",
    "def generar_sublistas(lista):\n",
    "    sublistas = []\n",
    "\n",
    "    for i in range(0, len(lista) + 1):\n",
    "        sublista = [list(c) for c in combinations(lista, i)]\n",
    "        print(sublista)\n",
    "\n",
    "        if len(sublista) > 0:\n",
    "            sublistas.extend(sublista)\n",
    "    \n",
    "    return sublistas\n",
    "\n",
    "\n",
    "numeros = [1, 2, 3, 4, 5]\n",
    "resultado = generar_sublistas(numeros)\n",
    "print(numeros)\n",
    "print(resultado)\n",
    "\n",
    "print()"
   ]
  },
  {
   "cell_type": "markdown",
   "metadata": {},
   "source": [
    "Llenar una mochila: Crea una función que reciba una lista de pesos de objetos y un peso máximo, y determine cuántos objetos puedes llevar sin superar el peso máximo. El objetivo es seleccionar la mayor cantidad de objetos posible sin que la suma de sus pesos exceda el límite permitido. Las reglas son:\n",
    "•Los objetos deben seleccionarse de manera que el peso total no supere el peso máximo.\n",
    "•Debes intentar incluir el mayor número posible de objetos.\n",
    "•La función debe devolver el número total de objetos que se pueden llevar sin exceder el peso máximo.\n",
    "•Los pesos de los objetos son números enteros positivos.\n",
    "•Los objetos deben seleccionarse en el orden que maximice la cantidad de objetos, por lo que es útil ordenar los objetos por peso ascendente antes de seleccionarlos."
   ]
  },
  {
   "cell_type": "code",
   "execution_count": 21,
   "metadata": {},
   "outputs": [
    {
     "name": "stdout",
     "output_type": "stream",
     "text": [
      "['a', 1]\n"
     ]
    },
    {
     "ename": "TypeError",
     "evalue": "list indices must be integers or slices, not list",
     "output_type": "error",
     "traceback": [
      "\u001b[1;31m---------------------------------------------------------------------------\u001b[0m",
      "\u001b[1;31mTypeError\u001b[0m                                 Traceback (most recent call last)",
      "Cell \u001b[1;32mIn[21], line 12\u001b[0m\n\u001b[0;32m      8\u001b[0m             cont \u001b[38;5;241m=\u001b[39m cont \u001b[38;5;241m+\u001b[39m \u001b[38;5;241m1\u001b[39m\n\u001b[0;32m     10\u001b[0m     \u001b[38;5;28;01mreturn\u001b[39;00m cont\n\u001b[1;32m---> 12\u001b[0m \u001b[43mpesos\u001b[49m\u001b[43m(\u001b[49m\u001b[43m[\u001b[49m\u001b[43m[\u001b[49m\u001b[38;5;124;43m\"\u001b[39;49m\u001b[38;5;124;43ma\u001b[39;49m\u001b[38;5;124;43m\"\u001b[39;49m\u001b[43m,\u001b[49m\u001b[38;5;241;43m1\u001b[39;49m\u001b[43m]\u001b[49m\u001b[43m,\u001b[49m\u001b[43m[\u001b[49m\u001b[38;5;124;43m\"\u001b[39;49m\u001b[38;5;124;43ma\u001b[39;49m\u001b[38;5;124;43m\"\u001b[39;49m\u001b[43m,\u001b[49m\u001b[38;5;241;43m2\u001b[39;49m\u001b[43m]\u001b[49m\u001b[43m]\u001b[49m\u001b[43m,\u001b[49m\u001b[38;5;241;43m3\u001b[39;49m\u001b[43m)\u001b[49m\n",
      "Cell \u001b[1;32mIn[21], line 7\u001b[0m, in \u001b[0;36mpesos\u001b[1;34m(lista, peso_max)\u001b[0m\n\u001b[0;32m      5\u001b[0m     \u001b[38;5;28;01mif\u001b[39;00m peso \u001b[38;5;241m<\u001b[39m\u001b[38;5;241m=\u001b[39m peso_max:\n\u001b[0;32m      6\u001b[0m         \u001b[38;5;28mprint\u001b[39m(lista[\u001b[38;5;241m0\u001b[39m])\n\u001b[1;32m----> 7\u001b[0m         peso \u001b[38;5;241m=\u001b[39m peso \u001b[38;5;241m+\u001b[39m \u001b[43mlista\u001b[49m\u001b[43m[\u001b[49m\u001b[43mi\u001b[49m\u001b[43m]\u001b[49m[\u001b[38;5;241m1\u001b[39m]\n\u001b[0;32m      8\u001b[0m         cont \u001b[38;5;241m=\u001b[39m cont \u001b[38;5;241m+\u001b[39m \u001b[38;5;241m1\u001b[39m\n\u001b[0;32m     10\u001b[0m \u001b[38;5;28;01mreturn\u001b[39;00m cont\n",
      "\u001b[1;31mTypeError\u001b[0m: list indices must be integers or slices, not list"
     ]
    }
   ],
   "source": [
    "def pesos(lista, peso_max):\n",
    "    count=0\n",
    "    lista.sort\n",
    "    for peso in lista:\n",
    "        if peso > peso_max:\n",
    "            count+=1"
   ]
  },
  {
   "cell_type": "markdown",
   "metadata": {},
   "source": [
    "Encontrar el número que falta en una secuencia:  Crea una función que reciba una lista de n-1 números únicos que representan una secuencia de números consecutivos entre 1 y n, donde falta un número, y encuentre el número faltante. El objetivo es identificar el número que falta para completar la secuencia. Las reglas son:\n",
    "•La secuencia contiene números consecutivos entre 1 y n, con exactamente un número faltante.\n",
    "•La lista contiene n-1 números únicos.\n",
    "•La función debe devolver el número faltante.\n",
    "•La función debe ser capaz de manejar tanto secuencias ascendentes como descendentes, siempre que contengan números consecutivos.\n",
    "•El valor de n es el número más alto esperado en la secuencia."
   ]
  },
  {
   "cell_type": "code",
   "execution_count": 33,
   "metadata": {},
   "outputs": [
    {
     "name": "stdout",
     "output_type": "stream",
     "text": [
      "anterior 0\n",
      "i 1\n",
      "anterior 1\n",
      "i 2\n",
      "anterior 2\n",
      "i 3\n",
      "anterior 3\n",
      "i 5\n"
     ]
    },
    {
     "data": {
      "text/plain": [
       "4"
      ]
     },
     "execution_count": 33,
     "metadata": {},
     "output_type": "execute_result"
    }
   ],
   "source": [
    "def numero_que_falta(lista):\n",
    "    for indice, numero in enumerate(lista, start=0):\n",
    "        if(lista[indice]-lista[indice+1] == 2 or lista[indice]-lista[indice+1]== -2):\n",
    "            numero_perdido=max(numero,lista[indice+1])-1\n",
    "            return \"El número que falta es\", numero_perdido\n",
    "\n",
    "lista_prueba=[5,4,3,1]\n",
    "numero_que_falta(lista_prueba)"
   ]
  },
  {
   "cell_type": "markdown",
   "metadata": {},
   "source": [
    "Conversión de números a palabras: Crea una función que reciba un número entero entre 1 y 9999, y devuelva su representación en palabras en español. El objetivo es convertir un número entero entre 1 y 9999 a su equivalente en palabras en español. Por ejemplo, el número 123 debe convertirse en “ciento veintitrés”. Las reglas son:\n",
    "•Los números del 1 al 9 se escriben como “uno”, “dos”, “tres”, etc.\n",
    "•Los números del 10 al 19 tienen formas especiales: “diez”, “once”, “doce”, etc.\n",
    "•Los números del 20 al 99 se dividen en decenas y unidades: “veinte”, “treinta y uno”, etc.\n",
    "•Los números del 100 al 9999 siguen las reglas del sistema de centenas: “ciento”, “doscientos”, “mil”, etc."
   ]
  },
  {
   "cell_type": "code",
   "execution_count": null,
   "metadata": {},
   "outputs": [],
   "source": [
    "\n",
    "casos_especiales = {\n",
    "    10: \"diez\",\n",
    "    11: \"once\",\n",
    "    12: \"doce\",\n",
    "    13: \"trece\",\n",
    "    14: \"catorce\",\n",
    "    15: \"quince\"\n",
    "}\n",
    "#Esta función se encarga de armar el grupo de centenas, decenas o unidades y devolver el resultado, lo que se le pasa por parámetro sería un string de 3 cifras.\n",
    "def armar_cientos(num):\n",
    "    unidades =['', 'uno','dos', 'tres', 'cuatro', 'cinco', 'seis', 'siete', 'ocho', 'nueve']\n",
    "    decenas = ['', 'dieci', 'veinti', 'treinta y ', 'cuarenta y ', 'cincuenta y ', 'sesenta y ', 'setenta y ', 'ochenta y ', 'noventa y ']\n",
    "    centenas = ['', 'ciento', 'doscientos', 'trescientos', 'cuatrocientos', 'quinientos', 'seiscientos', 'setecientos', 'ochocientos', 'novecientos']\n",
    "    \n",
    "    cientos = int(num[0]) if len(num) > 2 else 0\n",
    "\n",
    "    if int(num[-2:]) in casos_especiales:\n",
    "        return (f\"{centenas[cientos]} \" if cientos != 0 else '') + casos_especiales[int(num[-2:])]\n",
    "\n",
    "    decena, unidad = num[-2:]\n",
    "    return (f\"{centenas[cientos]} \" if cientos != 0 else '') + decenas[int(decena)] + unidades[int(unidad)]\n",
    "\n",
    "\n",
    "#La siguiente función es la de separa en partes de 3 el número dado.\n",
    "\n",
    "def dividir_num(num):\n",
    "    return [num[i:i+3] for i in range(0, len(num), 3)]\n",
    "#Y finalmente la función principal\n",
    "\n",
    "def numeros_a_palabras(numero):\n",
    "    if numero == 0:\n",
    "        return 'Cero'\n",
    "    elif numero == 1000000:\n",
    "        return 'Un millon'\n",
    "    \n",
    "    en_palabras = ''\n",
    "    \n",
    "    str_numero = str(numero)\n",
    "    longitud_num = len(str_numero)\n",
    "\n",
    "    unidades =['', 'uno','dos', 'tres', 'cuatro', 'cinco', 'seis', 'siete', 'ocho', 'nueve']\n",
    "    otros = ['', 'mil', 'millon']\n",
    "\n",
    "\n",
    "    for i, parte in enumerate(dividir_num(str_numero[::-1])):\n",
    "        parte = parte[::-1]\n",
    "        num = int(parte)\n",
    "        # print(parte)\n",
    "\n",
    "        if num == 0: continue\n",
    "        if len(str(num)) == 1: en_palabras =  unidades[num] + f\"{otros[i]} \" + en_palabras\n",
    "        elif num > 15:\n",
    "            resultado = armar_cientos(parte).strip()\n",
    "\n",
    "            if resultado[-1] == 'i':\n",
    "                resultado = resultado[:-1] + ('e' if parte[-2] == '2' else 'a')\n",
    "            elif resultado == 'ciento': \n",
    "                resultado = 'cien'\n",
    "            \n",
    "            if i == 0: \n",
    "                en_palabras += f\"{resultado} \"\n",
    "            else:\n",
    "                en_palabras = resultado + f\" {otros[i]} \" + en_palabras\n",
    "        else:\n",
    "            en_palabras = casos_especiales[num] + f\" {otros[i]} \" + en_palabras\n",
    "    \n",
    "    if en_palabras.startswith('uno'):\n",
    "        en_palabras = ('un ' if i > 1 else '') + en_palabras[3:]\n",
    "    return en_palabras.strip().capitalize()\n",
    "\n",
    "\n",
    "print(numeros_a_palabras(2))\n",
    "print(numeros_a_palabras(100))\n",
    "print(numeros_a_palabras(520))\n",
    "print(numeros_a_palabras(1000))\n",
    "print(numeros_a_palabras(2023))\n",
    "print(numeros_a_palabras(3512))"
   ]
  }
 ],
 "metadata": {
  "interpreter": {
   "hash": "8560ba40f25f8debc3b21cfdc72602d7855270eb253b25380125fbd9b6cd3418"
  },
  "kernelspec": {
   "display_name": "Python 3 (ipykernel)",
   "language": "python",
   "name": "python3"
  },
  "language_info": {
   "codemirror_mode": {
    "name": "ipython",
    "version": 3
   },
   "file_extension": ".py",
   "mimetype": "text/x-python",
   "name": "python",
   "nbconvert_exporter": "python",
   "pygments_lexer": "ipython3",
   "version": "3.12.5"
  },
  "toc": {
   "base_numbering": 1,
   "nav_menu": {},
   "number_sections": true,
   "sideBar": true,
   "skip_h1_title": false,
   "title_cell": "Table of Contents",
   "title_sidebar": "Contents",
   "toc_cell": true,
   "toc_position": {},
   "toc_section_display": true,
   "toc_window_display": true
  }
 },
 "nbformat": 4,
 "nbformat_minor": 2
}
